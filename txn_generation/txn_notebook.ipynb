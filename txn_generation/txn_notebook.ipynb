{
 "cells": [
  {
   "cell_type": "code",
   "execution_count": 2,
   "metadata": {},
   "outputs": [],
   "source": [
    "import random"
   ]
  },
  {
   "cell_type": "code",
   "execution_count": 3,
   "metadata": {},
   "outputs": [],
   "source": [
    "amount = 50\n",
    "txn_prob = 1"
   ]
  },
  {
   "cell_type": "code",
   "execution_count": 6,
   "metadata": {},
   "outputs": [
    {
     "name": "stdout",
     "output_type": "stream",
     "text": [
      "[[0, 50], [1, 50]]\n"
     ]
    }
   ],
   "source": [
    "random_numbers = [random.random() for x in range(2)]\n",
    "print([[timestep, amount] for timestep, x in enumerate(random_numbers) if x < txn_prob])"
   ]
  },
  {
   "cell_type": "code",
   "execution_count": 2,
   "metadata": {},
   "outputs": [],
   "source": [
    "oldColumns = ['transactions[0]', 'transactions[1]', 'transactions[2]', 'transactions[3]', 'transactions[4]', 'transactions[5]']\n",
    "newColumns = [\"timestep\", \"txn_type\", \"account_from\", \"account_to\", \"MoP\", \"amount\"]"
   ]
  },
  {
   "cell_type": "code",
   "execution_count": 5,
   "metadata": {},
   "outputs": [
    {
     "data": {
      "text/plain": [
       "[('transactions[0]', 'timestep'),\n",
       " ('transactions[1]', 'txn_type'),\n",
       " ('transactions[2]', 'account_from'),\n",
       " ('transactions[3]', 'account_to'),\n",
       " ('transactions[4]', 'MoP'),\n",
       " ('transactions[5]', 'amount')]"
      ]
     },
     "execution_count": 5,
     "metadata": {},
     "output_type": "execute_result"
    }
   ],
   "source": [
    "[(oldColumns[idx], name) for idx, name in enumerate(newColumns)]"
   ]
  },
  {
   "cell_type": "code",
   "execution_count": null,
   "metadata": {},
   "outputs": [],
   "source": []
  }
 ],
 "metadata": {
  "kernelspec": {
   "display_name": "Python 3",
   "language": "python",
   "name": "python3"
  },
  "language_info": {
   "codemirror_mode": {
    "name": "ipython",
    "version": 3
   },
   "file_extension": ".py",
   "mimetype": "text/x-python",
   "name": "python",
   "nbconvert_exporter": "python",
   "pygments_lexer": "ipython3",
   "version": "3.8.5"
  }
 },
 "nbformat": 4,
 "nbformat_minor": 4
}
