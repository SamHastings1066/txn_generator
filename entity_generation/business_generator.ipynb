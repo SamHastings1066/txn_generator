{
 "cells": [
  {
   "cell_type": "code",
   "execution_count": 21,
   "metadata": {},
   "outputs": [],
   "source": [
    "import pandas as pd\n",
    "import json\n",
    "import random"
   ]
  },
  {
   "cell_type": "code",
   "execution_count": 9,
   "metadata": {},
   "outputs": [
    {
     "name": "stdout",
     "output_type": "stream",
     "text": [
      "Started Reading JSON file\n",
      "Converting JSON encoded data into Python dictionary\n"
     ]
    }
   ],
   "source": [
    "# Load entity_params into a dictionary\n",
    "\n",
    "print(\"Started Reading JSON file\")\n",
    "with open(\"entity_params.json\", \"r\") as read_file:\n",
    "    print(\"Converting JSON encoded data into Python dictionary\")\n",
    "    entity_params_dict = json.load(read_file)"
   ]
  },
  {
   "cell_type": "code",
   "execution_count": 37,
   "metadata": {},
   "outputs": [],
   "source": [
    "# set paramters\n",
    "num_biz = 1000\n",
    "criminal_biz_proportion = 0.01 # proportion of criminal businesses"
   ]
  },
  {
   "cell_type": "code",
   "execution_count": 40,
   "metadata": {},
   "outputs": [],
   "source": [
    "# Create num_biz business ids\n",
    "entity_id = [\"B_\" + str(x) for x in range(1, num_biz + 1)]"
   ]
  },
  {
   "cell_type": "code",
   "execution_count": 49,
   "metadata": {},
   "outputs": [],
   "source": [
    "# Create business region by sampling from region distribution in param dict\n",
    "total_biz = sum(entity_params_dict[\"business\"][\"region_dist\"].values())\n",
    "region_list = list(entity_params_dict[\"business\"][\"region_dist\"].keys())\n",
    "region_weights = list(entity_params_dict[\"business\"][\"region_dist\"].values())\n",
    "\n",
    "region = random.choices(region_list, weights=region_weights, k=num_biz)"
   ]
  },
  {
   "cell_type": "code",
   "execution_count": 50,
   "metadata": {},
   "outputs": [],
   "source": [
    "# Create business sector by sampling from conditional distribution of sector\n",
    "# given region from param dict\n",
    "\n",
    "sector = []\n",
    "for rgn in region:\n",
    "    sector_list = list(entity_params_dict[\"business\"][\"region_sector_dist\"][rgn].keys())\n",
    "    sector_weights = list(entity_params_dict[\"business\"][\"region_sector_dist\"][rgn].values())\n",
    "    sector.append(random.choices(sector_list, weights = sector_weights, k=1)[0])\n",
    "    "
   ]
  },
  {
   "cell_type": "code",
   "execution_count": 73,
   "metadata": {},
   "outputs": [],
   "source": [
    "# Create business sector by sampling from conditional distribution of turnover\n",
    "# given region from param dict\n",
    "\n",
    "turnover = []\n",
    "for rgn in region:\n",
    "    turnover_list = list(entity_params_dict[\"business\"][\"region_turnover_dist\"][rgn].keys())\n",
    "    turnover_weights = list(entity_params_dict[\"business\"][\"region_turnover_dist\"][rgn].values())\n",
    "    turnover.append(random.choices(turnover_list, weights = turnover_weights, k=1)[0])\n",
    "\n",
    "turnover = [x.replace('+','-1000000') for x in turnover]\n",
    "turnover = [x.split('-') for x in turnover]\n",
    "turnover = [int(random.uniform(int(x[0]),int(x[1]))) * 1000 for x in turnover]"
   ]
  },
  {
   "cell_type": "code",
   "execution_count": 52,
   "metadata": {},
   "outputs": [],
   "source": [
    "# Create criminal flag\n",
    "criminal = random.choices([0,1], weights = [1-criminal_biz_proportion, criminal_biz_proportion], k=num_biz)"
   ]
  },
  {
   "cell_type": "code",
   "execution_count": 53,
   "metadata": {},
   "outputs": [],
   "source": [
    "# Create account ids, for now each business has a current and a loan account\n",
    "# account ids are just the entity_id with the suffic CUR or LOA\n",
    "\n",
    "account_ids = []\n",
    "for entity in entity_id:\n",
    "    account_ids.append([str(entity) + '_CUR', str(entity) + '_LOA'])"
   ]
  },
  {
   "cell_type": "code",
   "execution_count": 54,
   "metadata": {},
   "outputs": [],
   "source": [
    "business_df = pd.DataFrame({\n",
    "    \"entity_id\" : entity_id,\n",
    "    \"region\" : region,\n",
    "    \"sector\" : sector,\n",
    "    \"turnover\" : turnover,\n",
    "    \"account_ids\" : account_ids,\n",
    "    \"criminal\" : criminal\n",
    "})"
   ]
  },
  {
   "cell_type": "code",
   "execution_count": 55,
   "metadata": {},
   "outputs": [
    {
     "data": {
      "text/html": [
       "<div>\n",
       "<style scoped>\n",
       "    .dataframe tbody tr th:only-of-type {\n",
       "        vertical-align: middle;\n",
       "    }\n",
       "\n",
       "    .dataframe tbody tr th {\n",
       "        vertical-align: top;\n",
       "    }\n",
       "\n",
       "    .dataframe thead th {\n",
       "        text-align: right;\n",
       "    }\n",
       "</style>\n",
       "<table border=\"1\" class=\"dataframe\">\n",
       "  <thead>\n",
       "    <tr style=\"text-align: right;\">\n",
       "      <th></th>\n",
       "      <th>entity_id</th>\n",
       "      <th>region</th>\n",
       "      <th>sector</th>\n",
       "      <th>turnover</th>\n",
       "      <th>account_ids</th>\n",
       "      <th>criminal</th>\n",
       "    </tr>\n",
       "  </thead>\n",
       "  <tbody>\n",
       "    <tr>\n",
       "      <th>0</th>\n",
       "      <td>B_1</td>\n",
       "      <td>London</td>\n",
       "      <td>Arts entertainment recreation other services</td>\n",
       "      <td>100-249</td>\n",
       "      <td>[B_1_CUR, B_1_LOA]</td>\n",
       "      <td>0</td>\n",
       "    </tr>\n",
       "    <tr>\n",
       "      <th>1</th>\n",
       "      <td>B_2</td>\n",
       "      <td>East</td>\n",
       "      <td>Professional scientific technical</td>\n",
       "      <td>100-249</td>\n",
       "      <td>[B_2_CUR, B_2_LOA]</td>\n",
       "      <td>0</td>\n",
       "    </tr>\n",
       "    <tr>\n",
       "      <th>2</th>\n",
       "      <td>B_3</td>\n",
       "      <td>North West</td>\n",
       "      <td>Health</td>\n",
       "      <td>250-499</td>\n",
       "      <td>[B_3_CUR, B_3_LOA]</td>\n",
       "      <td>0</td>\n",
       "    </tr>\n",
       "    <tr>\n",
       "      <th>3</th>\n",
       "      <td>B_4</td>\n",
       "      <td>Wales</td>\n",
       "      <td>Construction</td>\n",
       "      <td>50-99</td>\n",
       "      <td>[B_4_CUR, B_4_LOA]</td>\n",
       "      <td>0</td>\n",
       "    </tr>\n",
       "    <tr>\n",
       "      <th>4</th>\n",
       "      <td>B_5</td>\n",
       "      <td>Scotland</td>\n",
       "      <td>Accommodation food services</td>\n",
       "      <td>100-249</td>\n",
       "      <td>[B_5_CUR, B_5_LOA]</td>\n",
       "      <td>0</td>\n",
       "    </tr>\n",
       "  </tbody>\n",
       "</table>\n",
       "</div>"
      ],
      "text/plain": [
       "  entity_id      region                                        sector  \\\n",
       "0       B_1      London  Arts entertainment recreation other services   \n",
       "1       B_2        East             Professional scientific technical   \n",
       "2       B_3  North West                                        Health   \n",
       "3       B_4       Wales                                  Construction   \n",
       "4       B_5    Scotland                   Accommodation food services   \n",
       "\n",
       "  turnover         account_ids  criminal  \n",
       "0  100-249  [B_1_CUR, B_1_LOA]         0  \n",
       "1  100-249  [B_2_CUR, B_2_LOA]         0  \n",
       "2  250-499  [B_3_CUR, B_3_LOA]         0  \n",
       "3    50-99  [B_4_CUR, B_4_LOA]         0  \n",
       "4  100-249  [B_5_CUR, B_5_LOA]         0  "
      ]
     },
     "execution_count": 55,
     "metadata": {},
     "output_type": "execute_result"
    }
   ],
   "source": [
    "business_df.head()"
   ]
  },
  {
   "cell_type": "code",
   "execution_count": null,
   "metadata": {},
   "outputs": [],
   "source": []
  }
 ],
 "metadata": {
  "kernelspec": {
   "display_name": "Python 3",
   "language": "python",
   "name": "python3"
  },
  "language_info": {
   "codemirror_mode": {
    "name": "ipython",
    "version": 3
   },
   "file_extension": ".py",
   "mimetype": "text/x-python",
   "name": "python",
   "nbconvert_exporter": "python",
   "pygments_lexer": "ipython3",
   "version": "3.8.5"
  }
 },
 "nbformat": 4,
 "nbformat_minor": 4
}
